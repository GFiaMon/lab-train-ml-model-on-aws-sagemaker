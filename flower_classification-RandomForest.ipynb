{
 "cells": [
  {
   "cell_type": "markdown",
   "id": "5cee634f-d34e-4636-a140-d4660b3cb7cf",
   "metadata": {},
   "source": [
    "# Lab Sagemaker Deployment\n",
    "## Cell 1: Import Libraries and Setup"
   ]
  },
  {
   "cell_type": "code",
   "execution_count": 1,
   "id": "1e1b9c5d-c264-4364-b51a-6e81bf5bea20",
   "metadata": {},
   "outputs": [
    {
     "name": "stdout",
     "output_type": "stream",
     "text": [
      "sagemaker.config INFO - Not applying SDK defaults from location: /etc/xdg/sagemaker/config.yaml\n",
      "sagemaker.config INFO - Not applying SDK defaults from location: /home/ec2-user/.config/sagemaker/config.yaml\n",
      "✅ Libraries imported successfully!\n"
     ]
    }
   ],
   "source": [
    "# Import necessary libraries\n",
    "import pandas as pd\n",
    "import numpy as np\n",
    "from sklearn.datasets import load_iris\n",
    "from sklearn.model_selection import train_test_split\n",
    "\n",
    "import sagemaker\n",
    "from sagemaker import Session\n",
    "from sagemaker.serializers import CSVSerializer\n",
    "from sagemaker.deserializers import CSVDeserializer\n",
    "from sagemaker.session import TrainingInput\n",
    "\n",
    "from sagemaker.amazon.amazon_estimator import get_image_uri\n",
    "\n",
    "import boto3\n",
    "import os\n",
    "import shap\n",
    "\n",
    "print(\"✅ Libraries imported successfully!\")"
   ]
  },
  {
   "cell_type": "markdown",
   "id": "004a95dc-193c-47ec-989a-4274f23a2473",
   "metadata": {},
   "source": [
    "## Cell 2: Initialize SageMaker Session"
   ]
  },
  {
   "cell_type": "code",
   "execution_count": 2,
   "id": "ea34f01f-38af-4f0e-b60f-a5a34422ead6",
   "metadata": {},
   "outputs": [
    {
     "name": "stdout",
     "output_type": "stream",
     "text": [
      "🔧 SageMaker Initialization Complete:\n",
      "   AWS Region: eu-central-1\n",
      "   S3 Bucket: sagemaker-eu-central-1-238708039523\n",
      "   Role: AmazonSageMakerServiceCatalogProductsUseRole\n"
     ]
    }
   ],
   "source": [
    "def initialize_sagemaker():\n",
    "    \"\"\"Initialize SageMaker session and get basic info\"\"\"\n",
    "    session = Session()\n",
    "    bucket = session.default_bucket()\n",
    "    role = sagemaker.get_execution_role()\n",
    "    region = session.boto_region_name\n",
    "    \n",
    "    print(\"🔧 SageMaker Initialization Complete:\")\n",
    "    print(f\"   AWS Region: {region}\")\n",
    "    print(f\"   S3 Bucket: {bucket}\")\n",
    "    print(f\"   Role: {role.split('/')[-1]}\")\n",
    "    \n",
    "    return session, bucket, role, region\n",
    "\n",
    "# Run initialization\n",
    "session, bucket, role, region = initialize_sagemaker()"
   ]
  },
  {
   "cell_type": "markdown",
   "id": "a056bb5a-3aa4-4be2-9900-399c4bd00fa1",
   "metadata": {},
   "source": [
    "## 3: Load and Prepare Data"
   ]
  },
  {
   "cell_type": "code",
   "execution_count": 3,
   "id": "b223b634-0765-4987-aa66-971ff96768b8",
   "metadata": {},
   "outputs": [
    {
     "name": "stdout",
     "output_type": "stream",
     "text": [
      "📊 Loading iris dataset...\n",
      "✅ Data loaded successfully!\n",
      "   Training set: (120, 5)\n",
      "   Test set: (30, 5)\n",
      "   Classes: [0 1 2]\n",
      "\n",
      "First 5 rows of training data:\n",
      "     target  sepal_length  sepal_width  petal_length  petal_width\n",
      "8         0           4.4          2.9           1.4          0.2\n",
      "106       2           4.9          2.5           4.5          1.7\n",
      "76        1           6.8          2.8           4.8          1.4\n",
      "9         0           4.9          3.1           1.5          0.1\n",
      "89        1           5.5          2.5           4.0          1.3\n"
     ]
    }
   ],
   "source": [
    "def load_and_prepare_iris_data():\n",
    "    \"\"\"Load and prepare iris dataset for SageMaker\"\"\"\n",
    "    print(\"📊 Loading iris dataset...\")\n",
    "    \n",
    "    # Load iris dataset\n",
    "    iris = load_iris()\n",
    "    X = iris.data\n",
    "    y = iris.target\n",
    "    \n",
    "    # Convert to DataFrame for better handling\n",
    "    feature_names = ['sepal_length', 'sepal_width', 'petal_length', 'petal_width']\n",
    "    X_df = pd.DataFrame(X, columns=feature_names)\n",
    "    y_series = pd.Series(y, name='target')\n",
    "    \n",
    "    # Split the data\n",
    "    X_train, X_test, y_train, y_test = train_test_split(\n",
    "        X_df, y_series, test_size=0.2, random_state=42, stratify=y\n",
    "    )\n",
    "    \n",
    "    # Create DataFrames with target variable (SageMaker expects target in first column)\n",
    "    train_data = pd.concat([y_train, X_train], axis=1)\n",
    "    test_data = pd.concat([y_test, X_test], axis=1)\n",
    "    \n",
    "    print(f\"✅ Data loaded successfully!\")\n",
    "    print(f\"   Training set: {train_data.shape}\")\n",
    "    print(f\"   Test set: {test_data.shape}\")\n",
    "    print(f\"   Classes: {np.unique(y)}\")\n",
    "    \n",
    "    return train_data, test_data, X_train, X_test, y_train, y_test\n",
    "\n",
    "# Test the function\n",
    "train_data, test_data, X_train, X_test, y_train, y_test = load_and_prepare_iris_data()\n",
    "print(\"\\nFirst 5 rows of training data:\")\n",
    "print(train_data.head())"
   ]
  },
  {
   "cell_type": "markdown",
   "id": "23b3731f-2deb-434d-b5ff-bae40f1ef18e",
   "metadata": {},
   "source": [
    "## 4: Save Data Locally Function"
   ]
  },
  {
   "cell_type": "code",
   "execution_count": 4,
   "id": "3dc35361-0423-48fc-8cae-4fc36d1bf1f6",
   "metadata": {},
   "outputs": [
    {
     "name": "stdout",
     "output_type": "stream",
     "text": [
      "💾 Saving data locally...\n",
      "✅ Data saved locally!\n",
      "   train.csv (for SageMaker)\n",
      "   train_with_headers.csv (for inspection)\n",
      "   test.csv (for SageMaker)\n",
      "   test_with_headers.csv (for inspection)\n",
      "\n",
      "📁 Local files created:\n",
      "-rw-rw-r-- 1 ec2-user ec2-user  540 Oct 27 16:15 test.csv\n",
      "-rw-rw-r-- 1 ec2-user ec2-user  597 Oct 27 16:15 test_with_headers.csv\n",
      "-rw-rw-r-- 1 ec2-user ec2-user 2160 Oct 27 16:15 train.csv\n",
      "-rw-rw-r-- 1 ec2-user ec2-user 2217 Oct 27 16:15 train_with_headers.csv\n"
     ]
    }
   ],
   "source": [
    "def save_data_locally(train_data, test_data):\n",
    "    \"\"\"Save train and test data to local files\"\"\"\n",
    "    print(\"💾 Saving data locally...\")\n",
    "    \n",
    "    # Save without headers for SageMaker\n",
    "    train_data.to_csv('train.csv', index=False, header=False)\n",
    "    test_data.to_csv('test.csv', index=False, header=False)\n",
    "    \n",
    "    # Also save with headers for inspection\n",
    "    train_data.to_csv('train_with_headers.csv', index=False)\n",
    "    test_data.to_csv('test_with_headers.csv', index=False)\n",
    "    \n",
    "    print(\"✅ Data saved locally!\")\n",
    "    print(\"   train.csv (for SageMaker)\")\n",
    "    print(\"   train_with_headers.csv (for inspection)\")\n",
    "    print(\"   test.csv (for SageMaker)\") \n",
    "    print(\"   test_with_headers.csv (for inspection)\")\n",
    "\n",
    "# Run the function\n",
    "save_data_locally(train_data, test_data)\n",
    "\n",
    "# Verify the files\n",
    "print(\"\\n📁 Local files created:\")\n",
    "!ls -la *.csv"
   ]
  },
  {
   "cell_type": "markdown",
   "id": "6c1a8e48-657d-4e8b-a2d3-aa0d5c4e1257",
   "metadata": {},
   "source": [
    "## 5: Upload to S3 Function"
   ]
  },
  {
   "cell_type": "code",
   "execution_count": 5,
   "id": "aaabb767-ec2c-4e2d-90a4-6af1242b2eba",
   "metadata": {},
   "outputs": [
    {
     "name": "stdout",
     "output_type": "stream",
     "text": [
      "☁️ Uploading data to S3...\n",
      "✅ Data uploaded to S3!\n",
      "   s3://sagemaker-eu-central-1-238708039523/iris-classification-demo/data/train.csv\n",
      "   s3://sagemaker-eu-central-1-238708039523/iris-classification-demo/data/test.csv\n",
      "\n",
      "📋 Verifying S3 upload:\n",
      "2025-10-27 16:16:46        540 iris-classification-demo/data/test.csv\n",
      "2025-10-27 16:16:46       2160 iris-classification-demo/data/train.csv\n"
     ]
    }
   ],
   "source": [
    "def upload_to_s3(bucket, prefix):\n",
    "    \"\"\"Upload data to S3 bucket\"\"\"\n",
    "    print(\"☁️ Uploading data to S3...\")\n",
    "    \n",
    "    s3 = boto3.Session().resource('s3')\n",
    "    \n",
    "    # Upload training data\n",
    "    s3.Bucket(bucket).Object(\n",
    "        f\"{prefix}/data/train.csv\").upload_file('train.csv')\n",
    "    \n",
    "    # Upload test data  \n",
    "    s3.Bucket(bucket).Object(\n",
    "        f\"{prefix}/data/test.csv\").upload_file('test.csv')\n",
    "    \n",
    "    print(f\"✅ Data uploaded to S3!\")\n",
    "    print(f\"   s3://{bucket}/{prefix}/data/train.csv\")\n",
    "    print(f\"   s3://{bucket}/{prefix}/data/test.csv\")\n",
    "    \n",
    "    # Verify upload\n",
    "    print(\"\\n📋 Verifying S3 upload:\")\n",
    "    !aws s3 ls {bucket}/{prefix}/data/ --recursive\n",
    "\n",
    "# Run the function\n",
    "prefix = \"iris-classification-demo\"\n",
    "upload_to_s3(bucket, prefix)"
   ]
  },
  {
   "cell_type": "markdown",
   "id": "82ad4b66-a75c-4562-8bc0-09f934e035a1",
   "metadata": {},
   "source": [
    "## 6: Create and Train Model Function"
   ]
  },
  {
   "cell_type": "code",
   "execution_count": 6,
   "id": "7cb8a387-5c13-4776-a1ae-24b4a8905fca",
   "metadata": {},
   "outputs": [],
   "source": [
    "def create_and_train_model(bucket, prefix, role):\n",
    "    \"\"\"Create and train Random Forest model on SageMaker\"\"\"\n",
    "    print(\"🤖 Creating and training Random Forest model...\")\n",
    "    \n",
    "    # Get SageMaker session and region\n",
    "    sagemaker_session = Session()\n",
    "    region = sagemaker_session.boto_region_name\n",
    "    \n",
    "    # Get Random Forest container (instead of XGBoost)\n",
    "    container = get_image_uri(region, 'randomforest')\n",
    "    print(f\"   Using container: {container}\")\n",
    "    \n",
    "    # Configure S3 output location\n",
    "    s3_output_location = f's3://{bucket}/{prefix}/randomforest_model'\n",
    "    \n",
    "    # Create Random Forest estimator\n",
    "    rf_model = sagemaker.estimator.Estimator(\n",
    "        image_uri=container,\n",
    "        role=role,\n",
    "        instance_count=1,\n",
    "        instance_type='ml.m5.large',\n",
    "        volume_size=5,\n",
    "        output_path=s3_output_location,\n",
    "        sagemaker_session=sagemaker_session\n",
    "    )\n",
    "    \n",
    "    # Set Random Forest hyperparameters\n",
    "    rf_model.set_hyperparameters(\n",
    "        num_classes=3,           # 3 classes in iris dataset\n",
    "        num_trees=50,            # Number of trees in the forest\n",
    "        max_depth=10,            # Maximum depth of each tree\n",
    "        min_node_size=1,         # Minimum number of samples in leaf nodes\n",
    "        feature_bagging_factor=0.7,  # Fraction of features to use for each tree\n",
    "        seed=42                  # Random seed for reproducibility\n",
    "    )\n",
    "    \n",
    "    # Define training inputs (same as before)\n",
    "    from sagemaker.inputs import TrainingInput\n",
    "    \n",
    "    train_input = TrainingInput(\n",
    "        f\"s3://{bucket}/{prefix}/data/train.csv\", \n",
    "        content_type=\"text/csv\"\n",
    "    )\n",
    "    \n",
    "    test_input = TrainingInput(\n",
    "        f\"s3://{bucket}/{prefix}/data/test.csv\", \n",
    "        content_type=\"text/csv\"\n",
    "    )\n",
    "    \n",
    "    print(\"   Starting Random Forest training...\")\n",
    "    print(\"   This may take a few minutes...\")\n",
    "    \n",
    "    # Train the model\n",
    "    rf_model.fit({\"train\": train_input, \"validation\": test_input}, wait=True)\n",
    "    \n",
    "    print(\"✅ Random Forest training completed!\")\n",
    "    print(f\"   Model artifacts: {rf_model.model_data}\")\n",
    "    \n",
    "    return rf_model"
   ]
  },
  {
   "cell_type": "code",
   "execution_count": 7,
   "id": "705f8aff-eb63-4ebb-a155-ceb906acd92f",
   "metadata": {},
   "outputs": [
    {
     "name": "stdout",
     "output_type": "stream",
     "text": [
      "🎯 Starting Random Forest training...\n",
      "🤖 Creating and training Random Forest model...\n"
     ]
    },
    {
     "name": "stderr",
     "output_type": "stream",
     "text": [
      "The method get_image_uri has been renamed in sagemaker>=2.\n",
      "See: https://sagemaker.readthedocs.io/en/stable/v2.html for details.\n"
     ]
    },
    {
     "data": {
      "text/html": [
       "<pre style=\"white-space:pre;overflow-x:auto;line-height:normal;font-family:Menlo,'DejaVu Sans Mono',consolas,'Courier New',monospace\"><span style=\"color: #ff0000; text-decoration-color: #ff0000\">╭─────────────────────────────── </span><span style=\"color: #ff0000; text-decoration-color: #ff0000; font-weight: bold\">Traceback </span><span style=\"color: #ff7f7f; text-decoration-color: #ff7f7f; font-weight: bold\">(most recent call last)</span><span style=\"color: #ff0000; text-decoration-color: #ff0000\"> ────────────────────────────────╮</span>\n",
       "<span style=\"color: #ff0000; text-decoration-color: #ff0000\">│</span> in &lt;module&gt;:3                                                                                    <span style=\"color: #ff0000; text-decoration-color: #ff0000\">│</span>\n",
       "<span style=\"color: #ff0000; text-decoration-color: #ff0000\">│</span>                                                                                                  <span style=\"color: #ff0000; text-decoration-color: #ff0000\">│</span>\n",
       "<span style=\"color: #ff0000; text-decoration-color: #ff0000\">│</span>   <span style=\"color: #7f7f7f; text-decoration-color: #7f7f7f\">1 # Run the function (add this at the end of Cell 5)</span>                                           <span style=\"color: #ff0000; text-decoration-color: #ff0000\">│</span>\n",
       "<span style=\"color: #ff0000; text-decoration-color: #ff0000\">│</span>   <span style=\"color: #7f7f7f; text-decoration-color: #7f7f7f\">2 </span><span style=\"color: #00ffff; text-decoration-color: #00ffff\">print</span>(<span style=\"color: #808000; text-decoration-color: #808000\">\"🎯 Starting Random Forest training...\"</span>)                                               <span style=\"color: #ff0000; text-decoration-color: #ff0000\">│</span>\n",
       "<span style=\"color: #ff0000; text-decoration-color: #ff0000\">│</span> <span style=\"color: #800000; text-decoration-color: #800000\">❱ </span>3 trained_model = create_and_train_model(bucket, prefix, role)                                 <span style=\"color: #ff0000; text-decoration-color: #ff0000\">│</span>\n",
       "<span style=\"color: #ff0000; text-decoration-color: #ff0000\">│</span>   <span style=\"color: #7f7f7f; text-decoration-color: #7f7f7f\">4 </span><span style=\"color: #00ffff; text-decoration-color: #00ffff\">print</span>(<span style=\"color: #808000; text-decoration-color: #808000\">\"✅ Random Forest training completed!\"</span>)                                                <span style=\"color: #ff0000; text-decoration-color: #ff0000\">│</span>\n",
       "<span style=\"color: #ff0000; text-decoration-color: #ff0000\">│</span>   <span style=\"color: #7f7f7f; text-decoration-color: #7f7f7f\">5 </span>                                                                                             <span style=\"color: #ff0000; text-decoration-color: #ff0000\">│</span>\n",
       "<span style=\"color: #ff0000; text-decoration-color: #ff0000\">│</span>                                                                                                  <span style=\"color: #ff0000; text-decoration-color: #ff0000\">│</span>\n",
       "<span style=\"color: #ff0000; text-decoration-color: #ff0000\">│</span> in create_and_train_model:10                                                                     <span style=\"color: #ff0000; text-decoration-color: #ff0000\">│</span>\n",
       "<span style=\"color: #ff0000; text-decoration-color: #ff0000\">│</span>                                                                                                  <span style=\"color: #ff0000; text-decoration-color: #ff0000\">│</span>\n",
       "<span style=\"color: #ff0000; text-decoration-color: #ff0000\">│</span>   <span style=\"color: #7f7f7f; text-decoration-color: #7f7f7f\"> 7 </span><span style=\"color: #7f7f7f; text-decoration-color: #7f7f7f\">│   </span>region = sagemaker_session.boto_region_name                                             <span style=\"color: #ff0000; text-decoration-color: #ff0000\">│</span>\n",
       "<span style=\"color: #ff0000; text-decoration-color: #ff0000\">│</span>   <span style=\"color: #7f7f7f; text-decoration-color: #7f7f7f\"> 8 </span><span style=\"color: #7f7f7f; text-decoration-color: #7f7f7f\">│   </span>                                                                                        <span style=\"color: #ff0000; text-decoration-color: #ff0000\">│</span>\n",
       "<span style=\"color: #ff0000; text-decoration-color: #ff0000\">│</span>   <span style=\"color: #7f7f7f; text-decoration-color: #7f7f7f\"> 9 </span><span style=\"color: #7f7f7f; text-decoration-color: #7f7f7f\">│   </span><span style=\"color: #7f7f7f; text-decoration-color: #7f7f7f\"># Get Random Forest container (instead of XGBoost)</span>                                      <span style=\"color: #ff0000; text-decoration-color: #ff0000\">│</span>\n",
       "<span style=\"color: #ff0000; text-decoration-color: #ff0000\">│</span> <span style=\"color: #800000; text-decoration-color: #800000\">❱ </span>10 <span style=\"color: #7f7f7f; text-decoration-color: #7f7f7f\">│   </span>container = get_image_uri(region, <span style=\"color: #808000; text-decoration-color: #808000\">'randomforest'</span>)                                       <span style=\"color: #ff0000; text-decoration-color: #ff0000\">│</span>\n",
       "<span style=\"color: #ff0000; text-decoration-color: #ff0000\">│</span>   <span style=\"color: #7f7f7f; text-decoration-color: #7f7f7f\">11 </span><span style=\"color: #7f7f7f; text-decoration-color: #7f7f7f\">│   </span><span style=\"color: #00ffff; text-decoration-color: #00ffff\">print</span>(<span style=\"color: #808000; text-decoration-color: #808000\">f\"   Using container: {</span>container<span style=\"color: #808000; text-decoration-color: #808000\">}\"</span>)                                               <span style=\"color: #ff0000; text-decoration-color: #ff0000\">│</span>\n",
       "<span style=\"color: #ff0000; text-decoration-color: #ff0000\">│</span>   <span style=\"color: #7f7f7f; text-decoration-color: #7f7f7f\">12 </span><span style=\"color: #7f7f7f; text-decoration-color: #7f7f7f\">│   </span>                                                                                        <span style=\"color: #ff0000; text-decoration-color: #ff0000\">│</span>\n",
       "<span style=\"color: #ff0000; text-decoration-color: #ff0000\">│</span>   <span style=\"color: #7f7f7f; text-decoration-color: #7f7f7f\">13 </span><span style=\"color: #7f7f7f; text-decoration-color: #7f7f7f\">│   </span><span style=\"color: #7f7f7f; text-decoration-color: #7f7f7f\"># Configure S3 output location</span>                                                          <span style=\"color: #ff0000; text-decoration-color: #ff0000\">│</span>\n",
       "<span style=\"color: #ff0000; text-decoration-color: #ff0000\">│</span>                                                                                                  <span style=\"color: #ff0000; text-decoration-color: #ff0000\">│</span>\n",
       "<span style=\"color: #ff0000; text-decoration-color: #ff0000\">│</span> <span style=\"color: #7f7f7f; text-decoration-color: #7f7f7f\">/home/ec2-user/anaconda3/envs/python3/lib/python3.10/site-packages/sagemaker/amazon/</span><span style=\"font-weight: bold\">amazon_estim</span> <span style=\"color: #ff0000; text-decoration-color: #ff0000\">│</span>\n",
       "<span style=\"color: #ff0000; text-decoration-color: #ff0000\">│</span> <span style=\"font-weight: bold\">ator.py</span>:521 in get_image_uri                                                                     <span style=\"color: #ff0000; text-decoration-color: #ff0000\">│</span>\n",
       "<span style=\"color: #ff0000; text-decoration-color: #ff0000\">│</span>                                                                                                  <span style=\"color: #ff0000; text-decoration-color: #ff0000\">│</span>\n",
       "<span style=\"color: #ff0000; text-decoration-color: #ff0000\">│</span>   <span style=\"color: #7f7f7f; text-decoration-color: #7f7f7f\">518 </span><span style=\"color: #bfbf7f; text-decoration-color: #bfbf7f\">│   │   </span><span style=\"color: #808000; text-decoration-color: #808000\">the image uri</span>                                                                      <span style=\"color: #ff0000; text-decoration-color: #ff0000\">│</span>\n",
       "<span style=\"color: #ff0000; text-decoration-color: #ff0000\">│</span>   <span style=\"color: #7f7f7f; text-decoration-color: #7f7f7f\">519 </span><span style=\"color: #bfbf7f; text-decoration-color: #bfbf7f\">│   </span><span style=\"color: #808000; text-decoration-color: #808000\">\"\"\"</span>                                                                                    <span style=\"color: #ff0000; text-decoration-color: #ff0000\">│</span>\n",
       "<span style=\"color: #ff0000; text-decoration-color: #ff0000\">│</span>   <span style=\"color: #7f7f7f; text-decoration-color: #7f7f7f\">520 </span><span style=\"color: #7f7f7f; text-decoration-color: #7f7f7f\">│   </span>renamed_warning(<span style=\"color: #808000; text-decoration-color: #808000\">\"The method get_image_uri\"</span>)                                            <span style=\"color: #ff0000; text-decoration-color: #ff0000\">│</span>\n",
       "<span style=\"color: #ff0000; text-decoration-color: #ff0000\">│</span> <span style=\"color: #800000; text-decoration-color: #800000\">❱ </span>521 <span style=\"color: #7f7f7f; text-decoration-color: #7f7f7f\">│   </span><span style=\"color: #0000ff; text-decoration-color: #0000ff\">return</span> image_uris.retrieve(                                                            <span style=\"color: #ff0000; text-decoration-color: #ff0000\">│</span>\n",
       "<span style=\"color: #ff0000; text-decoration-color: #ff0000\">│</span>   <span style=\"color: #7f7f7f; text-decoration-color: #7f7f7f\">522 </span><span style=\"color: #7f7f7f; text-decoration-color: #7f7f7f\">│   │   </span>framework=repo_name,                                                               <span style=\"color: #ff0000; text-decoration-color: #ff0000\">│</span>\n",
       "<span style=\"color: #ff0000; text-decoration-color: #ff0000\">│</span>   <span style=\"color: #7f7f7f; text-decoration-color: #7f7f7f\">523 </span><span style=\"color: #7f7f7f; text-decoration-color: #7f7f7f\">│   │   </span>region=region_name,                                                                <span style=\"color: #ff0000; text-decoration-color: #ff0000\">│</span>\n",
       "<span style=\"color: #ff0000; text-decoration-color: #ff0000\">│</span>   <span style=\"color: #7f7f7f; text-decoration-color: #7f7f7f\">524 </span><span style=\"color: #7f7f7f; text-decoration-color: #7f7f7f\">│   │   </span>version=repo_version,                                                              <span style=\"color: #ff0000; text-decoration-color: #ff0000\">│</span>\n",
       "<span style=\"color: #ff0000; text-decoration-color: #ff0000\">│</span>                                                                                                  <span style=\"color: #ff0000; text-decoration-color: #ff0000\">│</span>\n",
       "<span style=\"color: #ff0000; text-decoration-color: #ff0000\">│</span> <span style=\"color: #7f7f7f; text-decoration-color: #7f7f7f\">/home/ec2-user/anaconda3/envs/python3/lib/python3.10/site-packages/sagemaker/workflow/</span><span style=\"font-weight: bold\">utilities.</span> <span style=\"color: #ff0000; text-decoration-color: #ff0000\">│</span>\n",
       "<span style=\"color: #ff0000; text-decoration-color: #ff0000\">│</span> <span style=\"font-weight: bold\">py</span>:432 in wrapper                                                                                <span style=\"color: #ff0000; text-decoration-color: #ff0000\">│</span>\n",
       "<span style=\"color: #ff0000; text-decoration-color: #ff0000\">│</span>                                                                                                  <span style=\"color: #ff0000; text-decoration-color: #ff0000\">│</span>\n",
       "<span style=\"color: #ff0000; text-decoration-color: #ff0000\">│</span>   <span style=\"color: #7f7f7f; text-decoration-color: #7f7f7f\">429 </span><span style=\"color: #7f7f7f; text-decoration-color: #7f7f7f\">│   │   │   </span><span style=\"color: #0000ff; text-decoration-color: #0000ff\">if</span> <span style=\"color: #00ffff; text-decoration-color: #00ffff\">isinstance</span>(value, Parameter):                                               <span style=\"color: #ff0000; text-decoration-color: #ff0000\">│</span>\n",
       "<span style=\"color: #ff0000; text-decoration-color: #ff0000\">│</span>   <span style=\"color: #7f7f7f; text-decoration-color: #7f7f7f\">430 </span><span style=\"color: #7f7f7f; text-decoration-color: #7f7f7f\">│   │   │   │   </span>logger.warning(warning_msg_template, arg_name, func_name, <span style=\"color: #00ffff; text-decoration-color: #00ffff\">type</span>(value))     <span style=\"color: #ff0000; text-decoration-color: #ff0000\">│</span>\n",
       "<span style=\"color: #ff0000; text-decoration-color: #ff0000\">│</span>   <span style=\"color: #7f7f7f; text-decoration-color: #7f7f7f\">431 </span><span style=\"color: #7f7f7f; text-decoration-color: #7f7f7f\">│   │   │   │   </span>kwargs[arg_name] = value.default_value                                     <span style=\"color: #ff0000; text-decoration-color: #ff0000\">│</span>\n",
       "<span style=\"color: #ff0000; text-decoration-color: #ff0000\">│</span> <span style=\"color: #800000; text-decoration-color: #800000\">❱ </span>432 <span style=\"color: #7f7f7f; text-decoration-color: #7f7f7f\">│   │   </span><span style=\"color: #0000ff; text-decoration-color: #0000ff\">return</span> func(*args, **kwargs)                                                       <span style=\"color: #ff0000; text-decoration-color: #ff0000\">│</span>\n",
       "<span style=\"color: #ff0000; text-decoration-color: #ff0000\">│</span>   <span style=\"color: #7f7f7f; text-decoration-color: #7f7f7f\">433 </span><span style=\"color: #7f7f7f; text-decoration-color: #7f7f7f\">│   </span>                                                                                       <span style=\"color: #ff0000; text-decoration-color: #ff0000\">│</span>\n",
       "<span style=\"color: #ff0000; text-decoration-color: #ff0000\">│</span>   <span style=\"color: #7f7f7f; text-decoration-color: #7f7f7f\">434 </span><span style=\"color: #7f7f7f; text-decoration-color: #7f7f7f\">│   </span><span style=\"color: #0000ff; text-decoration-color: #0000ff\">return</span> wrapper                                                                         <span style=\"color: #ff0000; text-decoration-color: #ff0000\">│</span>\n",
       "<span style=\"color: #ff0000; text-decoration-color: #ff0000\">│</span>   <span style=\"color: #7f7f7f; text-decoration-color: #7f7f7f\">435 </span>                                                                                           <span style=\"color: #ff0000; text-decoration-color: #ff0000\">│</span>\n",
       "<span style=\"color: #ff0000; text-decoration-color: #ff0000\">│</span>                                                                                                  <span style=\"color: #ff0000; text-decoration-color: #ff0000\">│</span>\n",
       "<span style=\"color: #ff0000; text-decoration-color: #ff0000\">│</span> <span style=\"color: #7f7f7f; text-decoration-color: #7f7f7f\">/home/ec2-user/anaconda3/envs/python3/lib/python3.10/site-packages/sagemaker/</span><span style=\"font-weight: bold\">image_uris.py</span>:198   <span style=\"color: #ff0000; text-decoration-color: #ff0000\">│</span>\n",
       "<span style=\"color: #ff0000; text-decoration-color: #ff0000\">│</span> in retrieve                                                                                      <span style=\"color: #ff0000; text-decoration-color: #ff0000\">│</span>\n",
       "<span style=\"color: #ff0000; text-decoration-color: #ff0000\">│</span>                                                                                                  <span style=\"color: #ff0000; text-decoration-color: #ff0000\">│</span>\n",
       "<span style=\"color: #ff0000; text-decoration-color: #ff0000\">│</span>   <span style=\"color: #7f7f7f; text-decoration-color: #7f7f7f\">195 </span><span style=\"color: #7f7f7f; text-decoration-color: #7f7f7f\">│   │   │   │   </span>_framework = <span style=\"color: #808000; text-decoration-color: #808000\">f\"{</span>framework<span style=\"color: #808000; text-decoration-color: #808000\">}-{</span>inference_tool<span style=\"color: #808000; text-decoration-color: #808000\">}\"</span>                               <span style=\"color: #ff0000; text-decoration-color: #ff0000\">│</span>\n",
       "<span style=\"color: #ff0000; text-decoration-color: #ff0000\">│</span>   <span style=\"color: #7f7f7f; text-decoration-color: #7f7f7f\">196 </span><span style=\"color: #7f7f7f; text-decoration-color: #7f7f7f\">│   │   </span>final_image_scope = _get_final_image_scope(framework, instance_type, image_scope   <span style=\"color: #ff0000; text-decoration-color: #ff0000\">│</span>\n",
       "<span style=\"color: #ff0000; text-decoration-color: #ff0000\">│</span>   <span style=\"color: #7f7f7f; text-decoration-color: #7f7f7f\">197 </span><span style=\"color: #7f7f7f; text-decoration-color: #7f7f7f\">│   │   </span>_validate_for_suppported_frameworks_and_instance_type(framework, instance_type)    <span style=\"color: #ff0000; text-decoration-color: #ff0000\">│</span>\n",
       "<span style=\"color: #ff0000; text-decoration-color: #ff0000\">│</span> <span style=\"color: #800000; text-decoration-color: #800000\">❱ </span>198 <span style=\"color: #7f7f7f; text-decoration-color: #7f7f7f\">│   │   </span>config = _config_for_framework_and_scope(_framework, final_image_scope, accelera   <span style=\"color: #ff0000; text-decoration-color: #ff0000\">│</span>\n",
       "<span style=\"color: #ff0000; text-decoration-color: #ff0000\">│</span>   <span style=\"color: #7f7f7f; text-decoration-color: #7f7f7f\">199 </span><span style=\"color: #7f7f7f; text-decoration-color: #7f7f7f\">│   </span>                                                                                       <span style=\"color: #ff0000; text-decoration-color: #ff0000\">│</span>\n",
       "<span style=\"color: #ff0000; text-decoration-color: #ff0000\">│</span>   <span style=\"color: #7f7f7f; text-decoration-color: #7f7f7f\">200 </span><span style=\"color: #7f7f7f; text-decoration-color: #7f7f7f\">│   </span>original_version = version                                                             <span style=\"color: #ff0000; text-decoration-color: #ff0000\">│</span>\n",
       "<span style=\"color: #ff0000; text-decoration-color: #ff0000\">│</span>   <span style=\"color: #7f7f7f; text-decoration-color: #7f7f7f\">201 </span><span style=\"color: #7f7f7f; text-decoration-color: #7f7f7f\">│   </span>version = _validate_version_and_set_if_needed(version, config, framework, image_scop   <span style=\"color: #ff0000; text-decoration-color: #ff0000\">│</span>\n",
       "<span style=\"color: #ff0000; text-decoration-color: #ff0000\">│</span>                                                                                                  <span style=\"color: #ff0000; text-decoration-color: #ff0000\">│</span>\n",
       "<span style=\"color: #ff0000; text-decoration-color: #ff0000\">│</span> <span style=\"color: #7f7f7f; text-decoration-color: #7f7f7f\">/home/ec2-user/anaconda3/envs/python3/lib/python3.10/site-packages/sagemaker/</span><span style=\"font-weight: bold\">image_uris.py</span>:369   <span style=\"color: #ff0000; text-decoration-color: #ff0000\">│</span>\n",
       "<span style=\"color: #ff0000; text-decoration-color: #ff0000\">│</span> in _config_for_framework_and_scope                                                               <span style=\"color: #ff0000; text-decoration-color: #ff0000\">│</span>\n",
       "<span style=\"color: #ff0000; text-decoration-color: #ff0000\">│</span>                                                                                                  <span style=\"color: #ff0000; text-decoration-color: #ff0000\">│</span>\n",
       "<span style=\"color: #ff0000; text-decoration-color: #ff0000\">│</span>   <span style=\"color: #7f7f7f; text-decoration-color: #7f7f7f\">366 </span>                                                                                           <span style=\"color: #ff0000; text-decoration-color: #ff0000\">│</span>\n",
       "<span style=\"color: #ff0000; text-decoration-color: #ff0000\">│</span>   <span style=\"color: #7f7f7f; text-decoration-color: #7f7f7f\">367 </span><span style=\"color: #0000ff; text-decoration-color: #0000ff\">def</span><span style=\"color: #808080; text-decoration-color: #808080\"> </span><span style=\"color: #00ff00; text-decoration-color: #00ff00\">_config_for_framework_and_scope</span>(framework, image_scope, accelerator_type=<span style=\"color: #0000ff; text-decoration-color: #0000ff\">None</span>):        <span style=\"color: #ff0000; text-decoration-color: #ff0000\">│</span>\n",
       "<span style=\"color: #ff0000; text-decoration-color: #ff0000\">│</span>   <span style=\"color: #7f7f7f; text-decoration-color: #7f7f7f\">368 </span><span style=\"color: #bfbfbf; text-decoration-color: #bfbfbf\">│   </span><span style=\"color: #808000; text-decoration-color: #808000\">\"\"\"Loads the JSON config for the given framework and image scope.\"\"\"</span>                   <span style=\"color: #ff0000; text-decoration-color: #ff0000\">│</span>\n",
       "<span style=\"color: #ff0000; text-decoration-color: #ff0000\">│</span> <span style=\"color: #800000; text-decoration-color: #800000\">❱ </span>369 <span style=\"color: #7f7f7f; text-decoration-color: #7f7f7f\">│   </span>config = config_for_framework(framework)                                               <span style=\"color: #ff0000; text-decoration-color: #ff0000\">│</span>\n",
       "<span style=\"color: #ff0000; text-decoration-color: #ff0000\">│</span>   <span style=\"color: #7f7f7f; text-decoration-color: #7f7f7f\">370 </span><span style=\"color: #7f7f7f; text-decoration-color: #7f7f7f\">│   </span>                                                                                       <span style=\"color: #ff0000; text-decoration-color: #ff0000\">│</span>\n",
       "<span style=\"color: #ff0000; text-decoration-color: #ff0000\">│</span>   <span style=\"color: #7f7f7f; text-decoration-color: #7f7f7f\">371 </span><span style=\"color: #7f7f7f; text-decoration-color: #7f7f7f\">│   </span><span style=\"color: #0000ff; text-decoration-color: #0000ff\">if</span> accelerator_type:                                                                   <span style=\"color: #ff0000; text-decoration-color: #ff0000\">│</span>\n",
       "<span style=\"color: #ff0000; text-decoration-color: #ff0000\">│</span>   <span style=\"color: #7f7f7f; text-decoration-color: #7f7f7f\">372 </span><span style=\"color: #7f7f7f; text-decoration-color: #7f7f7f\">│   │   </span>_validate_accelerator_type(accelerator_type)                                       <span style=\"color: #ff0000; text-decoration-color: #ff0000\">│</span>\n",
       "<span style=\"color: #ff0000; text-decoration-color: #ff0000\">│</span>                                                                                                  <span style=\"color: #ff0000; text-decoration-color: #ff0000\">│</span>\n",
       "<span style=\"color: #ff0000; text-decoration-color: #ff0000\">│</span> <span style=\"color: #7f7f7f; text-decoration-color: #7f7f7f\">/home/ec2-user/anaconda3/envs/python3/lib/python3.10/site-packages/sagemaker/</span><span style=\"font-weight: bold\">image_uris.py</span>:438   <span style=\"color: #ff0000; text-decoration-color: #ff0000\">│</span>\n",
       "<span style=\"color: #ff0000; text-decoration-color: #ff0000\">│</span> in config_for_framework                                                                          <span style=\"color: #ff0000; text-decoration-color: #ff0000\">│</span>\n",
       "<span style=\"color: #ff0000; text-decoration-color: #ff0000\">│</span>                                                                                                  <span style=\"color: #ff0000; text-decoration-color: #ff0000\">│</span>\n",
       "<span style=\"color: #ff0000; text-decoration-color: #ff0000\">│</span>   <span style=\"color: #7f7f7f; text-decoration-color: #7f7f7f\">435 </span><span style=\"color: #0000ff; text-decoration-color: #0000ff\">def</span><span style=\"color: #808080; text-decoration-color: #808080\"> </span><span style=\"color: #00ff00; text-decoration-color: #00ff00\">config_for_framework</span>(framework):                                                       <span style=\"color: #ff0000; text-decoration-color: #ff0000\">│</span>\n",
       "<span style=\"color: #ff0000; text-decoration-color: #ff0000\">│</span>   <span style=\"color: #7f7f7f; text-decoration-color: #7f7f7f\">436 </span><span style=\"color: #bfbfbf; text-decoration-color: #bfbfbf\">│   </span><span style=\"color: #808000; text-decoration-color: #808000\">\"\"\"Loads the JSON config for the given framework.\"\"\"</span>                                   <span style=\"color: #ff0000; text-decoration-color: #ff0000\">│</span>\n",
       "<span style=\"color: #ff0000; text-decoration-color: #ff0000\">│</span>   <span style=\"color: #7f7f7f; text-decoration-color: #7f7f7f\">437 </span><span style=\"color: #7f7f7f; text-decoration-color: #7f7f7f\">│   </span>fname = os.path.join(os.path.dirname(<span style=\"color: #ff0000; text-decoration-color: #ff0000\">__file__</span>), <span style=\"color: #808000; text-decoration-color: #808000\">\"image_uri_config\"</span>, <span style=\"color: #808000; text-decoration-color: #808000\">\"{}.json\"</span>.format   <span style=\"color: #ff0000; text-decoration-color: #ff0000\">│</span>\n",
       "<span style=\"color: #ff0000; text-decoration-color: #ff0000\">│</span> <span style=\"color: #800000; text-decoration-color: #800000\">❱ </span>438 <span style=\"color: #7f7f7f; text-decoration-color: #7f7f7f\">│   </span><span style=\"color: #0000ff; text-decoration-color: #0000ff\">with</span> <span style=\"color: #00ffff; text-decoration-color: #00ffff\">open</span>(fname) <span style=\"color: #0000ff; text-decoration-color: #0000ff\">as</span> f:                                                                 <span style=\"color: #ff0000; text-decoration-color: #ff0000\">│</span>\n",
       "<span style=\"color: #ff0000; text-decoration-color: #ff0000\">│</span>   <span style=\"color: #7f7f7f; text-decoration-color: #7f7f7f\">439 </span><span style=\"color: #7f7f7f; text-decoration-color: #7f7f7f\">│   │   </span><span style=\"color: #0000ff; text-decoration-color: #0000ff\">return</span> json.load(f)                                                                <span style=\"color: #ff0000; text-decoration-color: #ff0000\">│</span>\n",
       "<span style=\"color: #ff0000; text-decoration-color: #ff0000\">│</span>   <span style=\"color: #7f7f7f; text-decoration-color: #7f7f7f\">440 </span>                                                                                           <span style=\"color: #ff0000; text-decoration-color: #ff0000\">│</span>\n",
       "<span style=\"color: #ff0000; text-decoration-color: #ff0000\">│</span>   <span style=\"color: #7f7f7f; text-decoration-color: #7f7f7f\">441 </span>                                                                                           <span style=\"color: #ff0000; text-decoration-color: #ff0000\">│</span>\n",
       "<span style=\"color: #ff0000; text-decoration-color: #ff0000\">╰──────────────────────────────────────────────────────────────────────────────────────────────────╯</span>\n",
       "<span style=\"color: #ff0000; text-decoration-color: #ff0000; font-weight: bold\">FileNotFoundError: </span><span style=\"font-weight: bold\">[</span>Errno <span style=\"color: #008080; text-decoration-color: #008080; font-weight: bold\">2</span><span style=\"font-weight: bold\">]</span> No such file or directory: \n",
       "<span style=\"color: #008700; text-decoration-color: #008700\">'/home/ec2-user/anaconda3/envs/python3/lib/python3.10/site-packages/sagemaker/image_uri_config/randomforest.json'</span>\n",
       "</pre>\n"
      ],
      "text/plain": [
       "\u001b[38;2;255;0;0m╭─\u001b[0m\u001b[38;2;255;0;0m──────────────────────────────\u001b[0m\u001b[38;2;255;0;0m \u001b[0m\u001b[1;38;2;255;0;0mTraceback \u001b[0m\u001b[1;2;38;2;255;0;0m(most recent call last)\u001b[0m\u001b[38;2;255;0;0m \u001b[0m\u001b[38;2;255;0;0m───────────────────────────────\u001b[0m\u001b[38;2;255;0;0m─╮\u001b[0m\n",
       "\u001b[38;2;255;0;0m│\u001b[0m in <module>:3                                                                                    \u001b[38;2;255;0;0m│\u001b[0m\n",
       "\u001b[38;2;255;0;0m│\u001b[0m                                                                                                  \u001b[38;2;255;0;0m│\u001b[0m\n",
       "\u001b[38;2;255;0;0m│\u001b[0m   \u001b[2m1 \u001b[0m\u001b[2m# Run the function (add this at the end of Cell 5)\u001b[0m                                           \u001b[38;2;255;0;0m│\u001b[0m\n",
       "\u001b[38;2;255;0;0m│\u001b[0m   \u001b[2m2 \u001b[0m\u001b[96mprint\u001b[0m(\u001b[33m\"\u001b[0m\u001b[33m🎯 Starting Random Forest training...\u001b[0m\u001b[33m\"\u001b[0m)                                               \u001b[38;2;255;0;0m│\u001b[0m\n",
       "\u001b[38;2;255;0;0m│\u001b[0m \u001b[31m❱ \u001b[0m3 trained_model = create_and_train_model(bucket, prefix, role)                                 \u001b[38;2;255;0;0m│\u001b[0m\n",
       "\u001b[38;2;255;0;0m│\u001b[0m   \u001b[2m4 \u001b[0m\u001b[96mprint\u001b[0m(\u001b[33m\"\u001b[0m\u001b[33m✅ Random Forest training completed!\u001b[0m\u001b[33m\"\u001b[0m)                                                \u001b[38;2;255;0;0m│\u001b[0m\n",
       "\u001b[38;2;255;0;0m│\u001b[0m   \u001b[2m5 \u001b[0m                                                                                             \u001b[38;2;255;0;0m│\u001b[0m\n",
       "\u001b[38;2;255;0;0m│\u001b[0m                                                                                                  \u001b[38;2;255;0;0m│\u001b[0m\n",
       "\u001b[38;2;255;0;0m│\u001b[0m in create_and_train_model:10                                                                     \u001b[38;2;255;0;0m│\u001b[0m\n",
       "\u001b[38;2;255;0;0m│\u001b[0m                                                                                                  \u001b[38;2;255;0;0m│\u001b[0m\n",
       "\u001b[38;2;255;0;0m│\u001b[0m   \u001b[2m 7 \u001b[0m\u001b[2m│   \u001b[0mregion = sagemaker_session.boto_region_name                                             \u001b[38;2;255;0;0m│\u001b[0m\n",
       "\u001b[38;2;255;0;0m│\u001b[0m   \u001b[2m 8 \u001b[0m\u001b[2m│   \u001b[0m                                                                                        \u001b[38;2;255;0;0m│\u001b[0m\n",
       "\u001b[38;2;255;0;0m│\u001b[0m   \u001b[2m 9 \u001b[0m\u001b[2m│   \u001b[0m\u001b[2m# Get Random Forest container (instead of XGBoost)\u001b[0m                                      \u001b[38;2;255;0;0m│\u001b[0m\n",
       "\u001b[38;2;255;0;0m│\u001b[0m \u001b[31m❱ \u001b[0m10 \u001b[2m│   \u001b[0mcontainer = get_image_uri(region, \u001b[33m'\u001b[0m\u001b[33mrandomforest\u001b[0m\u001b[33m'\u001b[0m)                                       \u001b[38;2;255;0;0m│\u001b[0m\n",
       "\u001b[38;2;255;0;0m│\u001b[0m   \u001b[2m11 \u001b[0m\u001b[2m│   \u001b[0m\u001b[96mprint\u001b[0m(\u001b[33mf\u001b[0m\u001b[33m\"\u001b[0m\u001b[33m   Using container: \u001b[0m\u001b[33m{\u001b[0mcontainer\u001b[33m}\u001b[0m\u001b[33m\"\u001b[0m)                                               \u001b[38;2;255;0;0m│\u001b[0m\n",
       "\u001b[38;2;255;0;0m│\u001b[0m   \u001b[2m12 \u001b[0m\u001b[2m│   \u001b[0m                                                                                        \u001b[38;2;255;0;0m│\u001b[0m\n",
       "\u001b[38;2;255;0;0m│\u001b[0m   \u001b[2m13 \u001b[0m\u001b[2m│   \u001b[0m\u001b[2m# Configure S3 output location\u001b[0m                                                          \u001b[38;2;255;0;0m│\u001b[0m\n",
       "\u001b[38;2;255;0;0m│\u001b[0m                                                                                                  \u001b[38;2;255;0;0m│\u001b[0m\n",
       "\u001b[38;2;255;0;0m│\u001b[0m \u001b[2m/home/ec2-user/anaconda3/envs/python3/lib/python3.10/site-packages/sagemaker/amazon/\u001b[0m\u001b[1mamazon_estim\u001b[0m \u001b[38;2;255;0;0m│\u001b[0m\n",
       "\u001b[38;2;255;0;0m│\u001b[0m \u001b[1mator.py\u001b[0m:521 in get_image_uri                                                                     \u001b[38;2;255;0;0m│\u001b[0m\n",
       "\u001b[38;2;255;0;0m│\u001b[0m                                                                                                  \u001b[38;2;255;0;0m│\u001b[0m\n",
       "\u001b[38;2;255;0;0m│\u001b[0m   \u001b[2m518 \u001b[0m\u001b[2;33m│   │   \u001b[0m\u001b[33mthe image uri\u001b[0m                                                                      \u001b[38;2;255;0;0m│\u001b[0m\n",
       "\u001b[38;2;255;0;0m│\u001b[0m   \u001b[2m519 \u001b[0m\u001b[2;33m│   \u001b[0m\u001b[33m\"\"\"\u001b[0m                                                                                    \u001b[38;2;255;0;0m│\u001b[0m\n",
       "\u001b[38;2;255;0;0m│\u001b[0m   \u001b[2m520 \u001b[0m\u001b[2m│   \u001b[0mrenamed_warning(\u001b[33m\"\u001b[0m\u001b[33mThe method get_image_uri\u001b[0m\u001b[33m\"\u001b[0m)                                            \u001b[38;2;255;0;0m│\u001b[0m\n",
       "\u001b[38;2;255;0;0m│\u001b[0m \u001b[31m❱ \u001b[0m521 \u001b[2m│   \u001b[0m\u001b[94mreturn\u001b[0m image_uris.retrieve(                                                            \u001b[38;2;255;0;0m│\u001b[0m\n",
       "\u001b[38;2;255;0;0m│\u001b[0m   \u001b[2m522 \u001b[0m\u001b[2m│   │   \u001b[0mframework=repo_name,                                                               \u001b[38;2;255;0;0m│\u001b[0m\n",
       "\u001b[38;2;255;0;0m│\u001b[0m   \u001b[2m523 \u001b[0m\u001b[2m│   │   \u001b[0mregion=region_name,                                                                \u001b[38;2;255;0;0m│\u001b[0m\n",
       "\u001b[38;2;255;0;0m│\u001b[0m   \u001b[2m524 \u001b[0m\u001b[2m│   │   \u001b[0mversion=repo_version,                                                              \u001b[38;2;255;0;0m│\u001b[0m\n",
       "\u001b[38;2;255;0;0m│\u001b[0m                                                                                                  \u001b[38;2;255;0;0m│\u001b[0m\n",
       "\u001b[38;2;255;0;0m│\u001b[0m \u001b[2m/home/ec2-user/anaconda3/envs/python3/lib/python3.10/site-packages/sagemaker/workflow/\u001b[0m\u001b[1mutilities.\u001b[0m \u001b[38;2;255;0;0m│\u001b[0m\n",
       "\u001b[38;2;255;0;0m│\u001b[0m \u001b[1mpy\u001b[0m:432 in wrapper                                                                                \u001b[38;2;255;0;0m│\u001b[0m\n",
       "\u001b[38;2;255;0;0m│\u001b[0m                                                                                                  \u001b[38;2;255;0;0m│\u001b[0m\n",
       "\u001b[38;2;255;0;0m│\u001b[0m   \u001b[2m429 \u001b[0m\u001b[2m│   │   │   \u001b[0m\u001b[94mif\u001b[0m \u001b[96misinstance\u001b[0m(value, Parameter):                                               \u001b[38;2;255;0;0m│\u001b[0m\n",
       "\u001b[38;2;255;0;0m│\u001b[0m   \u001b[2m430 \u001b[0m\u001b[2m│   │   │   │   \u001b[0mlogger.warning(warning_msg_template, arg_name, func_name, \u001b[96mtype\u001b[0m(value))     \u001b[38;2;255;0;0m│\u001b[0m\n",
       "\u001b[38;2;255;0;0m│\u001b[0m   \u001b[2m431 \u001b[0m\u001b[2m│   │   │   │   \u001b[0mkwargs[arg_name] = value.default_value                                     \u001b[38;2;255;0;0m│\u001b[0m\n",
       "\u001b[38;2;255;0;0m│\u001b[0m \u001b[31m❱ \u001b[0m432 \u001b[2m│   │   \u001b[0m\u001b[94mreturn\u001b[0m func(*args, **kwargs)                                                       \u001b[38;2;255;0;0m│\u001b[0m\n",
       "\u001b[38;2;255;0;0m│\u001b[0m   \u001b[2m433 \u001b[0m\u001b[2m│   \u001b[0m                                                                                       \u001b[38;2;255;0;0m│\u001b[0m\n",
       "\u001b[38;2;255;0;0m│\u001b[0m   \u001b[2m434 \u001b[0m\u001b[2m│   \u001b[0m\u001b[94mreturn\u001b[0m wrapper                                                                         \u001b[38;2;255;0;0m│\u001b[0m\n",
       "\u001b[38;2;255;0;0m│\u001b[0m   \u001b[2m435 \u001b[0m                                                                                           \u001b[38;2;255;0;0m│\u001b[0m\n",
       "\u001b[38;2;255;0;0m│\u001b[0m                                                                                                  \u001b[38;2;255;0;0m│\u001b[0m\n",
       "\u001b[38;2;255;0;0m│\u001b[0m \u001b[2m/home/ec2-user/anaconda3/envs/python3/lib/python3.10/site-packages/sagemaker/\u001b[0m\u001b[1mimage_uris.py\u001b[0m:198   \u001b[38;2;255;0;0m│\u001b[0m\n",
       "\u001b[38;2;255;0;0m│\u001b[0m in retrieve                                                                                      \u001b[38;2;255;0;0m│\u001b[0m\n",
       "\u001b[38;2;255;0;0m│\u001b[0m                                                                                                  \u001b[38;2;255;0;0m│\u001b[0m\n",
       "\u001b[38;2;255;0;0m│\u001b[0m   \u001b[2m195 \u001b[0m\u001b[2m│   │   │   │   \u001b[0m_framework = \u001b[33mf\u001b[0m\u001b[33m\"\u001b[0m\u001b[33m{\u001b[0mframework\u001b[33m}\u001b[0m\u001b[33m-\u001b[0m\u001b[33m{\u001b[0minference_tool\u001b[33m}\u001b[0m\u001b[33m\"\u001b[0m                               \u001b[38;2;255;0;0m│\u001b[0m\n",
       "\u001b[38;2;255;0;0m│\u001b[0m   \u001b[2m196 \u001b[0m\u001b[2m│   │   \u001b[0mfinal_image_scope = _get_final_image_scope(framework, instance_type, image_scope   \u001b[38;2;255;0;0m│\u001b[0m\n",
       "\u001b[38;2;255;0;0m│\u001b[0m   \u001b[2m197 \u001b[0m\u001b[2m│   │   \u001b[0m_validate_for_suppported_frameworks_and_instance_type(framework, instance_type)    \u001b[38;2;255;0;0m│\u001b[0m\n",
       "\u001b[38;2;255;0;0m│\u001b[0m \u001b[31m❱ \u001b[0m198 \u001b[2m│   │   \u001b[0mconfig = _config_for_framework_and_scope(_framework, final_image_scope, accelera   \u001b[38;2;255;0;0m│\u001b[0m\n",
       "\u001b[38;2;255;0;0m│\u001b[0m   \u001b[2m199 \u001b[0m\u001b[2m│   \u001b[0m                                                                                       \u001b[38;2;255;0;0m│\u001b[0m\n",
       "\u001b[38;2;255;0;0m│\u001b[0m   \u001b[2m200 \u001b[0m\u001b[2m│   \u001b[0moriginal_version = version                                                             \u001b[38;2;255;0;0m│\u001b[0m\n",
       "\u001b[38;2;255;0;0m│\u001b[0m   \u001b[2m201 \u001b[0m\u001b[2m│   \u001b[0mversion = _validate_version_and_set_if_needed(version, config, framework, image_scop   \u001b[38;2;255;0;0m│\u001b[0m\n",
       "\u001b[38;2;255;0;0m│\u001b[0m                                                                                                  \u001b[38;2;255;0;0m│\u001b[0m\n",
       "\u001b[38;2;255;0;0m│\u001b[0m \u001b[2m/home/ec2-user/anaconda3/envs/python3/lib/python3.10/site-packages/sagemaker/\u001b[0m\u001b[1mimage_uris.py\u001b[0m:369   \u001b[38;2;255;0;0m│\u001b[0m\n",
       "\u001b[38;2;255;0;0m│\u001b[0m in _config_for_framework_and_scope                                                               \u001b[38;2;255;0;0m│\u001b[0m\n",
       "\u001b[38;2;255;0;0m│\u001b[0m                                                                                                  \u001b[38;2;255;0;0m│\u001b[0m\n",
       "\u001b[38;2;255;0;0m│\u001b[0m   \u001b[2m366 \u001b[0m                                                                                           \u001b[38;2;255;0;0m│\u001b[0m\n",
       "\u001b[38;2;255;0;0m│\u001b[0m   \u001b[2m367 \u001b[0m\u001b[94mdef\u001b[0m\u001b[90m \u001b[0m\u001b[92m_config_for_framework_and_scope\u001b[0m(framework, image_scope, accelerator_type=\u001b[94mNone\u001b[0m):        \u001b[38;2;255;0;0m│\u001b[0m\n",
       "\u001b[38;2;255;0;0m│\u001b[0m   \u001b[2m368 \u001b[0m\u001b[2;90m│   \u001b[0m\u001b[33m\"\"\"Loads the JSON config for the given framework and image scope.\"\"\"\u001b[0m                   \u001b[38;2;255;0;0m│\u001b[0m\n",
       "\u001b[38;2;255;0;0m│\u001b[0m \u001b[31m❱ \u001b[0m369 \u001b[2m│   \u001b[0mconfig = config_for_framework(framework)                                               \u001b[38;2;255;0;0m│\u001b[0m\n",
       "\u001b[38;2;255;0;0m│\u001b[0m   \u001b[2m370 \u001b[0m\u001b[2m│   \u001b[0m                                                                                       \u001b[38;2;255;0;0m│\u001b[0m\n",
       "\u001b[38;2;255;0;0m│\u001b[0m   \u001b[2m371 \u001b[0m\u001b[2m│   \u001b[0m\u001b[94mif\u001b[0m accelerator_type:                                                                   \u001b[38;2;255;0;0m│\u001b[0m\n",
       "\u001b[38;2;255;0;0m│\u001b[0m   \u001b[2m372 \u001b[0m\u001b[2m│   │   \u001b[0m_validate_accelerator_type(accelerator_type)                                       \u001b[38;2;255;0;0m│\u001b[0m\n",
       "\u001b[38;2;255;0;0m│\u001b[0m                                                                                                  \u001b[38;2;255;0;0m│\u001b[0m\n",
       "\u001b[38;2;255;0;0m│\u001b[0m \u001b[2m/home/ec2-user/anaconda3/envs/python3/lib/python3.10/site-packages/sagemaker/\u001b[0m\u001b[1mimage_uris.py\u001b[0m:438   \u001b[38;2;255;0;0m│\u001b[0m\n",
       "\u001b[38;2;255;0;0m│\u001b[0m in config_for_framework                                                                          \u001b[38;2;255;0;0m│\u001b[0m\n",
       "\u001b[38;2;255;0;0m│\u001b[0m                                                                                                  \u001b[38;2;255;0;0m│\u001b[0m\n",
       "\u001b[38;2;255;0;0m│\u001b[0m   \u001b[2m435 \u001b[0m\u001b[94mdef\u001b[0m\u001b[90m \u001b[0m\u001b[92mconfig_for_framework\u001b[0m(framework):                                                       \u001b[38;2;255;0;0m│\u001b[0m\n",
       "\u001b[38;2;255;0;0m│\u001b[0m   \u001b[2m436 \u001b[0m\u001b[2;90m│   \u001b[0m\u001b[33m\"\"\"Loads the JSON config for the given framework.\"\"\"\u001b[0m                                   \u001b[38;2;255;0;0m│\u001b[0m\n",
       "\u001b[38;2;255;0;0m│\u001b[0m   \u001b[2m437 \u001b[0m\u001b[2m│   \u001b[0mfname = os.path.join(os.path.dirname(\u001b[91m__file__\u001b[0m), \u001b[33m\"\u001b[0m\u001b[33mimage_uri_config\u001b[0m\u001b[33m\"\u001b[0m, \u001b[33m\"\u001b[0m\u001b[33m{}\u001b[0m\u001b[33m.json\u001b[0m\u001b[33m\"\u001b[0m.format   \u001b[38;2;255;0;0m│\u001b[0m\n",
       "\u001b[38;2;255;0;0m│\u001b[0m \u001b[31m❱ \u001b[0m438 \u001b[2m│   \u001b[0m\u001b[94mwith\u001b[0m \u001b[96mopen\u001b[0m(fname) \u001b[94mas\u001b[0m f:                                                                 \u001b[38;2;255;0;0m│\u001b[0m\n",
       "\u001b[38;2;255;0;0m│\u001b[0m   \u001b[2m439 \u001b[0m\u001b[2m│   │   \u001b[0m\u001b[94mreturn\u001b[0m json.load(f)                                                                \u001b[38;2;255;0;0m│\u001b[0m\n",
       "\u001b[38;2;255;0;0m│\u001b[0m   \u001b[2m440 \u001b[0m                                                                                           \u001b[38;2;255;0;0m│\u001b[0m\n",
       "\u001b[38;2;255;0;0m│\u001b[0m   \u001b[2m441 \u001b[0m                                                                                           \u001b[38;2;255;0;0m│\u001b[0m\n",
       "\u001b[38;2;255;0;0m╰──────────────────────────────────────────────────────────────────────────────────────────────────╯\u001b[0m\n",
       "\u001b[1;91mFileNotFoundError: \u001b[0m\u001b[1m[\u001b[0mErrno \u001b[1;36m2\u001b[0m\u001b[1m]\u001b[0m No such file or directory: \n",
       "\u001b[38;2;0;135;0m'/home/ec2-user/anaconda3/envs/python3/lib/python3.10/site-packages/sagemaker/image_uri_config/randomforest.json'\u001b[0m\n"
      ]
     },
     "metadata": {},
     "output_type": "display_data"
    }
   ],
   "source": [
    "# Run the function (add this at the end of Cell 5)\n",
    "print(\"🎯 Starting Random Forest training...\")\n",
    "trained_model = create_and_train_model(bucket, prefix, role)\n",
    "print(\"✅ Random Forest training completed!\")"
   ]
  },
  {
   "cell_type": "markdown",
   "id": "91266a9d-c6f6-4444-af87-8837f424203b",
   "metadata": {},
   "source": [
    "## 6: Deploy Model Function"
   ]
  },
  {
   "cell_type": "code",
   "execution_count": null,
   "id": "7b36c758-70ee-4955-851f-0db58b312e37",
   "metadata": {},
   "outputs": [],
   "source": [
    "def deploy_model(model):\n",
    "    \"\"\"Deploy the trained model to an endpoint\"\"\"\n",
    "    print(\"🚀 Deploying model to endpoint...\")\n",
    "    \n",
    "    predictor = model.deploy(\n",
    "        initial_instance_count=1,\n",
    "        instance_type='ml.t2.medium',\n",
    "        serializer=CSVSerializer(),\n",
    "        deserializer=CSVDeserializer(),\n",
    "        endpoint_name=f\"iris-classifier-{pd.Timestamp.now().strftime('%Y-%m-%d-%H-%M-%S')}\"\n",
    "    )\n",
    "    \n",
    "    print(\"✅ Model deployed successfully!\")\n",
    "    print(f\"   Endpoint name: {predictor.endpoint_name}\")\n",
    "    print(f\"   Instance type: ml.t2.medium\")\n",
    "    \n",
    "    return predictor\n",
    "\n",
    "# Run the function\n",
    "predictor = deploy_model(trained_model)"
   ]
  },
  {
   "cell_type": "code",
   "execution_count": null,
   "id": "7ab70f30-b851-42b1-be30-647b36bc3994",
   "metadata": {},
   "outputs": [],
   "source": []
  },
  {
   "cell_type": "code",
   "execution_count": null,
   "id": "672856ff-7126-4a87-a1fc-5fb8394a68fb",
   "metadata": {},
   "outputs": [],
   "source": []
  },
  {
   "cell_type": "code",
   "execution_count": null,
   "id": "d020773f-c71f-405e-84cc-3c73e7e48d1e",
   "metadata": {},
   "outputs": [],
   "source": []
  },
  {
   "cell_type": "code",
   "execution_count": null,
   "id": "c2180cc0-274e-4002-b82e-8a48592699e3",
   "metadata": {},
   "outputs": [],
   "source": []
  },
  {
   "cell_type": "code",
   "execution_count": null,
   "id": "df8e8b86-23f7-4f24-867d-0accb4cd156f",
   "metadata": {},
   "outputs": [],
   "source": []
  },
  {
   "cell_type": "code",
   "execution_count": null,
   "id": "844ddb53-e562-4555-bcf9-dcd1b7316260",
   "metadata": {},
   "outputs": [],
   "source": []
  }
 ],
 "metadata": {
  "kernelspec": {
   "display_name": "conda_python3",
   "language": "python",
   "name": "conda_python3"
  },
  "language_info": {
   "codemirror_mode": {
    "name": "ipython",
    "version": 3
   },
   "file_extension": ".py",
   "mimetype": "text/x-python",
   "name": "python",
   "nbconvert_exporter": "python",
   "pygments_lexer": "ipython3",
   "version": "3.10.18"
  }
 },
 "nbformat": 4,
 "nbformat_minor": 5
}
